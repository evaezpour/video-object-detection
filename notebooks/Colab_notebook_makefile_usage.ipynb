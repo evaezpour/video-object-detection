{
  "nbformat": 4,
  "nbformat_minor": 0,
  "metadata": {
    "colab": {
      "provenance": [],
      "gpuType": "T4"
    },
    "kernelspec": {
      "name": "python3",
      "display_name": "Python 3"
    },
    "language_info": {
      "name": "python"
    },
    "accelerator": "GPU"
  },
  "cells": [
    {
      "cell_type": "code",
      "execution_count": null,
      "metadata": {
        "id": "SxrfgR7jJWQK"
      },
      "outputs": [],
      "source": [
        "# Clone the project repository\n",
        "!git clone https://github.com/evaezpour/video_object_detection.git"
      ]
    },
    {
      "cell_type": "code",
      "source": [
        "# Change directory to the project\n",
        "%cd video_object_detection"
      ],
      "metadata": {
        "id": "sxzAgx3aJb9C"
      },
      "execution_count": null,
      "outputs": []
    },
    {
      "cell_type": "code",
      "source": [
        "# Run your make commands\n",
        "!make install"
      ],
      "metadata": {
        "id": "hZy9Vq5pJd51"
      },
      "execution_count": null,
      "outputs": []
    },
    {
      "cell_type": "code",
      "source": [
        "!make run i=\"./demo/input_video/street_trim.mp4\" o=\"./demo/output_video/street_trim_people.mp4\" t=\"people\""
      ],
      "metadata": {
        "id": "DYFLDEdTJjY1"
      },
      "execution_count": null,
      "outputs": []
    }
  ]
}