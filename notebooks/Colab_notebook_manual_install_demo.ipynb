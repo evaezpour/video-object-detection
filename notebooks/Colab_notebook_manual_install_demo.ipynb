{
  "cells": [
    {
      "cell_type": "code",
      "execution_count": null,
      "metadata": {
        "id": "A1XTMo-bavvh"
      },
      "outputs": [],
      "source": [
        "# Clone the project repository\n",
        "!git clone https://github.com/evaezpour/video_object_detection.git\n",
        "\n",
        "# Change directory to the project\n",
        "%cd video_object_detection\n",
        "\n",
        "# Install dependencies\n",
        "!pip install -r requirements.txt\n",
        "\n",
        "!pip install -e .\n"
      ]
    },
    {
      "cell_type": "code",
      "execution_count": null,
      "metadata": {
        "id": "jzRpLrcia15_"
      },
      "outputs": [],
      "source": [
        "import sys\n",
        "\n",
        "# Clone the GroundingDINO project\n",
        "!git clone https://github.com/IDEA-Research/GroundingDINO.git\n",
        "\n",
        "# Change directory to the GroundingDINO project\n",
        "%cd GroundingDINO\n",
        "\n",
        "# Install dependencies\n",
        "!pip install -e .\n",
        "\n",
        "# Add the GroundingDINO directory to the Python path\n",
        "sys.path.append('/content/video_object_detection/GroundingDINO')\n",
        "\n",
        "# Change back to the original directory\n",
        "%cd .."
      ]
    },
    {
      "cell_type": "code",
      "execution_count": null,
      "metadata": {
        "id": "6CBHImATzdzi"
      },
      "outputs": [],
      "source": [
        "#Run this cell or the following cell to execute the object detection or demo\n",
        "%cd ..\n",
        "from video_object_detection.object_detector.video_processor import process_video\n",
        "from IPython.display import HTML\n",
        "\n",
        "\n",
        "input_video_path = './demo/input_video/street_trim.mp4'\n",
        "output_video_path = './demo/output_video/output_street_people_2.mp4'\n",
        "text_prompt = 'people'\n",
        "\n",
        "process_video(input_video_path, output_video_path, text_prompt)"
      ]
    },
    {
      "cell_type": "code",
      "execution_count": null,
      "metadata": {
        "id": "xI-9n2XYa8kc"
      },
      "outputs": [],
      "source": [
        "#Run demo\n",
        "\n",
        "%cd demo\n",
        "!python inference_on_a_video.py\n",
        "%cd .."
      ]
    }
  ],
  "metadata": {
    "accelerator": "GPU",
    "colab": {
      "gpuType": "T4",
      "provenance": []
    },
    "kernelspec": {
      "display_name": "Python 3",
      "name": "python3"
    },
    "language_info": {
      "name": "python"
    }
  },
  "nbformat": 4,
  "nbformat_minor": 0
}